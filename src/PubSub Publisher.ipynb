{
 "cells": [
  {
   "cell_type": "code",
   "execution_count": null,
   "id": "2cbd5b02-0802-4ffc-9315-976acd9771c2",
   "metadata": {},
   "outputs": [],
   "source": [
    "#Install the dependencies\n",
    "!!pip install --upgrade -r requirements.txt"
   ]
  },
  {
   "cell_type": "code",
   "execution_count": null,
   "id": "974490d3-3b3e-48fc-8165-6b478d45899f",
   "metadata": {},
   "outputs": [],
   "source": [
    "#Specify the project for default login\n",
    "!gcloud auth application-default login"
   ]
  },
  {
   "cell_type": "code",
   "execution_count": null,
   "id": "0e2da0de-5632-4e11-b4ad-fa8fd93d5ff0",
   "metadata": {},
   "outputs": [],
   "source": [
    "# Make sure to create a Service Account which has \"pub_sub_publisher\" role.\n",
    "# Example : pub-sub-publisher@<project name>.iam.gserviceaccount.com\n",
    "# Also generate a key and copy that json file in the auth folder"
   ]
  },
  {
   "cell_type": "code",
   "execution_count": null,
   "id": "1197173b-0b30-41e4-b744-741b4f8303eb",
   "metadata": {},
   "outputs": [],
   "source": [
    "import os\n",
    "from google.oauth2 import service_account\n",
    "\n",
    "# Set the path to your service account key file\n",
    "os.environ[\"GOOGLE_APPLICATION_CREDENTIALS\"] = \"../auth/<json-file-name>.json\"\n",
    "\n",
    "# Authenticate using the service account\n",
    "credentials = service_account.Credentials.from_service_account_file(\n",
    "    \"../auth/<json-file-name>.json\"\n",
    ")"
   ]
  },
  {
   "cell_type": "code",
   "execution_count": null,
   "id": "5a02d79f-1266-4b24-95a1-4a82dc381ade",
   "metadata": {},
   "outputs": [],
   "source": [
    "import time\n",
    "import pandas as pd\n",
    "from google.cloud import pubsub_v1\n",
    "import json\n",
    "\n",
    "# Path to your CSV file\n",
    "csv_file_path = \"../data/employees.csv\"\n",
    "\n",
    "# Pub/Sub topic\n",
    "topic_path = \"projects/coastal-throne-433510-a5/topics/employee_sal_data\"\n",
    "\n",
    "# Initialize the Pub/Sub publisher client\n",
    "publisher = pubsub_v1.PublisherClient()\n",
    "\n",
    "# Read the CSV file into a DataFrame\n",
    "df = pd.read_csv(csv_file_path)\n",
    "\n",
    "# Function to publish a message to the Pub/Sub topic\n",
    "def publish_message(data):\n",
    "    # Convert the data dictionary to a JSON string\n",
    "    message = json.dumps(data)\n",
    "    # Publish the message\n",
    "    future = publisher.publish(topic_path, message.encode(\"utf-8\"))\n",
    "    print(f\"Published message ID: {future.result()}\")\n",
    "\n",
    "# Loop through each row in the CSV and publish it as a message every 20 seconds\n",
    "for index, row in df.iterrows():\n",
    "    # Convert the row to a dictionary and publish it as JSON\n",
    "    data = row.to_dict()\n",
    "    print(f\"Publishing row {index + 1}: {data}\")\n",
    "    publish_message(data)\n",
    "\n",
    "    \n",
    "    # Check if the user wants to stop\n",
    "    user_input = input(\"Press 'q' to stop publishing, or press Enter to continue: \")\n",
    "    if user_input.lower() == 'q':\n",
    "        print(\"Publishing stopped by user.\")\n",
    "        break\n",
    "    \n",
    "    \n",
    "    time.sleep(5)"
   ]
  }
 ],
 "metadata": {
  "kernelspec": {
   "display_name": "Python 3 (ipykernel)",
   "language": "python",
   "name": "python3"
  },
  "language_info": {
   "codemirror_mode": {
    "name": "ipython",
    "version": 3
   },
   "file_extension": ".py",
   "mimetype": "text/x-python",
   "name": "python",
   "nbconvert_exporter": "python",
   "pygments_lexer": "ipython3",
   "version": "3.11.9"
  }
 },
 "nbformat": 4,
 "nbformat_minor": 5
}
